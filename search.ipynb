{
 "cells": [
  {
   "cell_type": "code",
   "execution_count": 1,
   "metadata": {},
   "outputs": [
    {
     "name": "stdout",
     "output_type": "stream",
     "text": [
      "در حال گوش کردن...\n",
      "در حال پردازش صدا...\n",
      "\n",
      "گوگل کروم رم رو باز بکنیم و بعدش وارد مسیر دیجی کالا بشی و دیجی کالا با گوگل کروم رو برای من باز بکنی\n"
     ]
    }
   ],
   "source": [
    "\n",
    "import speech_recognition as sr\n",
    "\n",
    "\n",
    "record = sr.Recognizer()\n",
    "\n",
    "\n",
    "print(\"در حال گوش کردن...\")\n",
    "with sr.Microphone() as source:\n",
    "\n",
    "    record.pause_threshold = 1\n",
    "\n",
    "    audio = record.listen(source)\n",
    "\n",
    "\n",
    "print(\"در حال پردازش صدا...\")\n",
    "\n",
    "\n",
    "text = record.recognize_google(audio, language='fa-IR')\n",
    "print(\"\")\n",
    "print(text)\n",
    "\n",
    "\n",
    "if str(text).find(\"گوگل کروم\") > -1 and str(text).find(\"باز\") > -1:\n",
    "  \n",
    "    import os\n",
    "\n",
    "    os.startfile(\"C:Users\\DELL\\AppData\\Local\\Google\\Chrome\\Application\\chrome.exe\")\n",
    "\n",
    "if str(text).find(\"دیجی کالا\") > -1 and str(text).find(\"باز\") > -1:\n",
    "\n",
    "    import os\n",
    "\n",
    "    os.startfile(\"https://www.digikala.com\")\n",
    "\n",
    "    \n",
    "\n"
   ]
  },
  {
   "cell_type": "code",
   "execution_count": null,
   "metadata": {},
   "outputs": [],
   "source": [
    "import os\n",
    " \n",
    "os.startfile(\"https://www.digikala.com\")"
   ]
  }
 ],
 "metadata": {
  "kernelspec": {
   "display_name": "Python 3",
   "language": "python",
   "name": "python3"
  },
  "language_info": {
   "codemirror_mode": {
    "name": "ipython",
    "version": 3
   },
   "file_extension": ".py",
   "mimetype": "text/x-python",
   "name": "python",
   "nbconvert_exporter": "python",
   "pygments_lexer": "ipython3",
   "version": "3.8.8"
  }
 },
 "nbformat": 4,
 "nbformat_minor": 2
}
